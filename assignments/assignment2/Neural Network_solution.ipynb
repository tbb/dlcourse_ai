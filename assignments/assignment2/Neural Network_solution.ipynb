{
 "cells": [
  {
   "cell_type": "markdown",
   "metadata": {},
   "source": [
    "# Задание 2.1 - Нейронные сети\n",
    "\n",
    "В этом задании вы реализуете и натренируете настоящую нейроную сеть своими руками!\n",
    "\n",
    "В некотором смысле это будет расширением прошлого задания - нам нужно просто составить несколько линейных классификаторов вместе!\n",
    "\n",
    "<img src=\"https://i.redd.it/n9fgba8b0qr01.png\" alt=\"Stack_more_layers\" width=\"400px\"/>"
   ]
  },
  {
   "cell_type": "code",
   "execution_count": 1,
   "metadata": {},
   "outputs": [],
   "source": [
    "import numpy as np\n",
    "import matplotlib.pyplot as plt\n",
    "\n",
    "%matplotlib inline\n",
    "\n",
    "%load_ext autoreload\n",
    "%autoreload 2"
   ]
  },
  {
   "cell_type": "code",
   "execution_count": 2,
   "metadata": {},
   "outputs": [],
   "source": [
    "from dataset import load_svhn, random_split_train_val\n",
    "from gradient_check_solution import check_layer_gradient, check_layer_param_gradient, check_model_gradient\n",
    "from layers_solution import FullyConnectedLayer, ReLULayer\n",
    "from model_solution import TwoLayerNet\n",
    "from trainer_solution import Trainer, Dataset\n",
    "from optim_solution import SGD, MomentumSGD\n",
    "from metrics_solution import multiclass_accuracy"
   ]
  },
  {
   "cell_type": "markdown",
   "metadata": {},
   "source": [
    "# Загружаем данные\n",
    "\n",
    "И разделяем их на training и validation."
   ]
  },
  {
   "cell_type": "code",
   "execution_count": 3,
   "metadata": {},
   "outputs": [],
   "source": [
    "def prepare_for_neural_network(train_X, test_X):\n",
    "    train_flat = train_X.reshape(train_X.shape[0], -1).astype(np.float) / 255.0\n",
    "    test_flat = test_X.reshape(test_X.shape[0], -1).astype(np.float) / 255.0\n",
    "    \n",
    "    # Subtract mean\n",
    "    mean_image = np.mean(train_flat, axis = 0)\n",
    "    train_flat -= mean_image\n",
    "    test_flat -= mean_image\n",
    "    \n",
    "    return train_flat, test_flat\n",
    "    \n",
    "train_X, train_y, test_X, test_y = load_svhn(\"data\", max_train=10000, max_test=1000)    \n",
    "train_X, test_X = prepare_for_neural_network(train_X, test_X)\n",
    "# Split train into train and val\n",
    "train_X, train_y, val_X, val_y = random_split_train_val(train_X, train_y, num_val = 1000)"
   ]
  },
  {
   "cell_type": "markdown",
   "metadata": {},
   "source": [
    "# Как всегда, начинаем с кирпичиков\n",
    "\n",
    "Мы будем реализовывать необходимые нам слои по очереди. Каждый слой должен реализовать:\n",
    "- прямой проход (forward pass), который генерирует выход слоя по входу и запоминает необходимые данные\n",
    "- обратный проход (backward pass), который получает градиент по выходу слоя и вычисляет градиент по входу и по параметрам\n",
    "\n",
    "Начнем с ReLU, у которого параметров нет."
   ]
  },
  {
   "cell_type": "code",
   "execution_count": 4,
   "metadata": {
    "scrolled": false
   },
   "outputs": [
    {
     "name": "stdout",
     "output_type": "stream",
     "text": [
      "Gradient check passed!\n"
     ]
    }
   ],
   "source": [
    "# TODO: Implement ReLULayer layer in layers.py\n",
    "# Note: you'll need to copy implementation of the gradient_check function from the previous assignment\n",
    "\n",
    "X = np.array([[1,-2,3],\n",
    "              [-1, 2, 0.1]\n",
    "              ])\n",
    "\n",
    "assert check_layer_gradient(ReLULayer(), X)"
   ]
  },
  {
   "cell_type": "markdown",
   "metadata": {},
   "source": [
    "А теперь реализуем полносвязный слой (fully connected layer), у которого будет два массива параметров: W (weights) и B (bias).\n",
    "\n",
    "Все параметры наши слои будут использовать для параметров специальный класс `Param`, в котором будут храниться значения параметров и градиенты этих параметров, вычисляемые во время обратного прохода.\n",
    "\n",
    "Это даст возможность аккумулировать (суммировать) градиенты из разных частей функции потерь, например, из cross-entropy loss и regularization loss."
   ]
  },
  {
   "cell_type": "code",
   "execution_count": 5,
   "metadata": {},
   "outputs": [
    {
     "name": "stdout",
     "output_type": "stream",
     "text": [
      "Gradient check passed!\n",
      "Gradient check passed!\n",
      "Gradient check passed!\n"
     ]
    }
   ],
   "source": [
    "# TODO: Implement FullyConnected layer forward and backward methods\n",
    "assert check_layer_gradient(FullyConnectedLayer(3, 4), X)\n",
    "# TODO: Implement storing gradients for W and B\n",
    "assert check_layer_param_gradient(FullyConnectedLayer(3, 4), X, 'W')\n",
    "assert check_layer_param_gradient(FullyConnectedLayer(3, 4), X, 'B')"
   ]
  },
  {
   "cell_type": "markdown",
   "metadata": {},
   "source": [
    "## Создаем нейронную сеть\n",
    "\n",
    "Теперь мы реализуем простейшую нейронную сеть с двумя полносвязным слоями и нелинейностью ReLU. Реализуйте функцию `compute_loss_and_gradients`, она должна запустить прямой и обратный проход через оба слоя для вычисления градиентов.\n",
    "\n",
    "Не забудьте реализовать очистку градиентов в начале функции."
   ]
  },
  {
   "cell_type": "code",
   "execution_count": 6,
   "metadata": {},
   "outputs": [
    {
     "name": "stdout",
     "output_type": "stream",
     "text": [
      "Checking gradient for l1W\n",
      "Gradient check passed!\n",
      "Checking gradient for l1B\n",
      "Gradient check passed!\n",
      "Checking gradient for l2W\n",
      "Gradient check passed!\n",
      "Checking gradient for l2B\n",
      "Gradient check passed!\n"
     ]
    },
    {
     "data": {
      "text/plain": [
       "True"
      ]
     },
     "execution_count": 6,
     "metadata": {},
     "output_type": "execute_result"
    }
   ],
   "source": [
    "# TODO: In model.py, implement compute_loss_and_gradients function\n",
    "model = TwoLayerNet(n_input = train_X.shape[1], n_output = 10, hidden_layer_size = 3, reg = 0)\n",
    "loss = model.compute_loss_and_gradients(train_X[:2], train_y[:2])\n",
    "\n",
    "# TODO Now implement backward pass and aggregate all of the params\n",
    "check_model_gradient(model, train_X[:2], train_y[:2])"
   ]
  },
  {
   "cell_type": "markdown",
   "metadata": {},
   "source": [
    "Теперь добавьте к модели регуляризацию - она должна прибавляться к loss и делать свой вклад в градиенты."
   ]
  },
  {
   "cell_type": "code",
   "execution_count": 7,
   "metadata": {},
   "outputs": [
    {
     "name": "stdout",
     "output_type": "stream",
     "text": [
      "Checking gradient for l1W\n",
      "Gradient check passed!\n",
      "Checking gradient for l1B\n",
      "Gradient check passed!\n",
      "Checking gradient for l2W\n",
      "Gradient check passed!\n",
      "Checking gradient for l2B\n",
      "Gradient check passed!\n"
     ]
    },
    {
     "data": {
      "text/plain": [
       "True"
      ]
     },
     "execution_count": 7,
     "metadata": {},
     "output_type": "execute_result"
    }
   ],
   "source": [
    "# TODO Now implement l2 regularization in the forward and backward pass\n",
    "model_with_reg = TwoLayerNet(n_input = train_X.shape[1], n_output = 10, hidden_layer_size = 3, reg = 1e1)\n",
    "loss_with_reg = model_with_reg.compute_loss_and_gradients(train_X[:2], train_y[:2])\n",
    "assert loss_with_reg > loss and not np.isclose(loss_with_reg, loss), \\\n",
    "    \"Loss with regularization (%2.4f) should be higher than without it (%2.4f)!\" % (loss, loss_with_reg)\n",
    "\n",
    "check_model_gradient(model_with_reg, train_X[:2], train_y[:2])"
   ]
  },
  {
   "cell_type": "markdown",
   "metadata": {},
   "source": [
    "Также реализуем функцию предсказания (вычисления значения) модели на новых данных.\n",
    "\n",
    "Какое значение точности мы ожидаем увидеть до начала тренировки?"
   ]
  },
  {
   "cell_type": "code",
   "execution_count": 8,
   "metadata": {},
   "outputs": [
    {
     "data": {
      "text/plain": [
       "0.1"
      ]
     },
     "execution_count": 8,
     "metadata": {},
     "output_type": "execute_result"
    }
   ],
   "source": [
    "# Finally, implement predict function!\n",
    "\n",
    "# TODO: Implement predict function\n",
    "# What would be the value we expect?\n",
    "multiclass_accuracy(model_with_reg.predict(train_X[:30]), train_y[:30]) "
   ]
  },
  {
   "cell_type": "markdown",
   "metadata": {},
   "source": [
    "# Допишем код для процесса тренировки"
   ]
  },
  {
   "cell_type": "markdown",
   "metadata": {},
   "source": [
    "<p>Epoch #19. Loss: 1.2975, Train accuracy: 0.7012, val accuracy: 0.6110</p>\n",
    "<p>Epoch #20. Loss: 1.3120, Train accuracy: 0.6887, val accuracy: 0.6060</p>"
   ]
  },
  {
   "cell_type": "code",
   "execution_count": 44,
   "metadata": {},
   "outputs": [
    {
     "name": "stdout",
     "output_type": "stream",
     "text": [
      "Epoch # 1. Loss: 2.2125, Train accuracy: 0.2342, val accuracy: 0.2320\n",
      "Epoch # 2. Loss: 1.9334, Train accuracy: 0.4107, val accuracy: 0.4030\n",
      "Epoch # 3. Loss: 1.5340, Train accuracy: 0.5592, val accuracy: 0.5620\n",
      "Epoch # 4. Loss: 1.2951, Train accuracy: 0.6118, val accuracy: 0.6020\n",
      "Epoch # 5. Loss: 1.1501, Train accuracy: 0.6621, val accuracy: 0.6440\n",
      "Epoch # 6. Loss: 1.0717, Train accuracy: 0.6803, val accuracy: 0.6430\n",
      "Epoch # 7. Loss: 0.9932, Train accuracy: 0.7308, val accuracy: 0.6920\n",
      "Epoch # 8. Loss: 0.9431, Train accuracy: 0.7303, val accuracy: 0.6740\n",
      "Epoch # 9. Loss: 0.8833, Train accuracy: 0.6849, val accuracy: 0.6480\n",
      "Epoch #10. Loss: 0.8500, Train accuracy: 0.7700, val accuracy: 0.6970\n",
      "Epoch #11. Loss: 0.8076, Train accuracy: 0.7606, val accuracy: 0.7030\n",
      "Epoch #12. Loss: 0.7656, Train accuracy: 0.7949, val accuracy: 0.7310\n",
      "Epoch #13. Loss: 0.7359, Train accuracy: 0.8047, val accuracy: 0.7180\n",
      "Epoch #14. Loss: 0.6943, Train accuracy: 0.8219, val accuracy: 0.7310\n",
      "Epoch #15. Loss: 0.6683, Train accuracy: 0.8271, val accuracy: 0.7220\n",
      "Epoch #16. Loss: 0.6403, Train accuracy: 0.8303, val accuracy: 0.7240\n",
      "Epoch #17. Loss: 0.6168, Train accuracy: 0.8232, val accuracy: 0.7120\n",
      "Epoch #18. Loss: 0.5964, Train accuracy: 0.8211, val accuracy: 0.7220\n",
      "Epoch #19. Loss: 0.5666, Train accuracy: 0.8438, val accuracy: 0.7260\n",
      "Epoch #20. Loss: 0.5509, Train accuracy: 0.8227, val accuracy: 0.7200\n"
     ]
    }
   ],
   "source": [
    "model = TwoLayerNet(n_input = train_X.shape[1], n_output=10, hidden_layer_size=100, reg=1e-5)\n",
    "dataset = Dataset(train_X, train_y, val_X, val_y)\n",
    "trainer = Trainer(model, dataset, SGD(), learning_rate=1e-1)\n",
    "\n",
    "# TODO Implement missing pieces in Trainer.fit function\n",
    "# You should expect loss to go down and train and val accuracy go up for every epoch\n",
    "loss_history, train_history, val_history = trainer.fit()"
   ]
  },
  {
   "cell_type": "code",
   "execution_count": 50,
   "metadata": {},
   "outputs": [
    {
     "data": {
      "image/png": "[encoded data removed]",
      "text/plain": [
       "<Figure size 432x288 with 1 Axes>"
      ]
     },
     "metadata": {
      "needs_background": "light"
     },
     "output_type": "display_data"
    }
   ],
   "source": [
    "plt.plot(train_history, label='Train')\n",
    "plt.plot(val_history, label='Validation');\n",
    "plt.title('Learning curves')\n",
    "plt.legend(loc='best');"
   ]
  },
  {
   "cell_type": "code",
   "execution_count": 49,
   "metadata": {},
   "outputs": [
    {
     "data": {
      "image/png": "[encoded data removed]",
      "text/plain": [
       "<Figure size 432x288 with 1 Axes>"
      ]
     },
     "metadata": {
      "needs_background": "light"
     },
     "output_type": "display_data"
    }
   ],
   "source": [
    "plt.plot(loss_history)\n",
    "plt.title('Loss function');"
   ]
  },
  {
   "cell_type": "markdown",
   "metadata": {},
   "source": [
    "# Улучшаем процесс тренировки\n",
    "\n",
    "Мы реализуем несколько ключевых оптимизаций, необходимых для тренировки современных нейросетей."
   ]
  },
  {
   "cell_type": "markdown",
   "metadata": {},
   "source": [
    "## Уменьшение скорости обучения (learning rate decay)\n",
    "\n",
    "Одна из необходимых оптимизаций во время тренировки нейронных сетей - постепенное уменьшение скорости обучения по мере тренировки.\n",
    "\n",
    "Один из стандартных методов - уменьшение скорости обучения (learning rate) каждые N эпох на коэффициент d (часто называемый decay). Значения N и d, как всегда, являются гиперпараметрами и должны подбираться на основе эффективности на проверочных данных (validation data). \n",
    "\n",
    "В нашем случае N будет равным 1."
   ]
  },
  {
   "cell_type": "code",
   "execution_count": 55,
   "metadata": {},
   "outputs": [
    {
     "name": "stdout",
     "output_type": "stream",
     "text": [
      "Epoch # 1. Loss: 2.1805, Train accuracy: 0.2840, val accuracy: 0.2800\n",
      "Epoch # 2. Loss: 1.7314, Train accuracy: 0.4992, val accuracy: 0.5160\n",
      "Epoch # 3. Loss: 1.3694, Train accuracy: 0.5766, val accuracy: 0.5430\n",
      "Epoch # 4. Loss: 1.2011, Train accuracy: 0.6517, val accuracy: 0.6340\n",
      "Epoch # 5. Loss: 1.0803, Train accuracy: 0.6896, val accuracy: 0.6420\n",
      "Epoch # 6. Loss: 1.0137, Train accuracy: 0.6781, val accuracy: 0.6440\n",
      "Epoch # 7. Loss: 0.9387, Train accuracy: 0.7283, val accuracy: 0.6650\n",
      "Epoch # 8. Loss: 0.8938, Train accuracy: 0.7510, val accuracy: 0.6980\n",
      "Epoch # 9. Loss: 0.8408, Train accuracy: 0.7802, val accuracy: 0.7070\n",
      "Epoch #10. Loss: 0.8173, Train accuracy: 0.7803, val accuracy: 0.7050\n",
      "Epoch #11. Loss: 0.7651, Train accuracy: 0.7831, val accuracy: 0.7100\n",
      "Epoch #12. Loss: 0.7288, Train accuracy: 0.7922, val accuracy: 0.7020\n",
      "Epoch #13. Loss: 0.6929, Train accuracy: 0.7916, val accuracy: 0.7120\n",
      "Epoch #14. Loss: 0.6602, Train accuracy: 0.8278, val accuracy: 0.7270\n",
      "Epoch #15. Loss: 0.6525, Train accuracy: 0.8400, val accuracy: 0.7310\n",
      "Epoch #16. Loss: 0.6048, Train accuracy: 0.8384, val accuracy: 0.7250\n",
      "Epoch #17. Loss: 0.5799, Train accuracy: 0.8258, val accuracy: 0.7160\n",
      "Epoch #18. Loss: 0.5784, Train accuracy: 0.8530, val accuracy: 0.7380\n",
      "Epoch #19. Loss: 0.5481, Train accuracy: 0.8687, val accuracy: 0.7370\n",
      "Epoch #20. Loss: 0.5325, Train accuracy: 0.8634, val accuracy: 0.7300\n"
     ]
    }
   ],
   "source": [
    "# TODO Implement learning rate decay inside Trainer.fit method\n",
    "# Decay should happen once per epoch\n",
    "\n",
    "model = TwoLayerNet(n_input = train_X.shape[1], n_output = 10, hidden_layer_size = 100, reg = 1e-5)\n",
    "dataset = Dataset(train_X, train_y, val_X, val_y)\n",
    "trainer = Trainer(model, dataset, SGD(), learning_rate=15e-2, learning_rate_decay=0.99)\n",
    "\n",
    "initial_learning_rate = trainer.learning_rate\n",
    "loss_history, train_history, val_history = trainer.fit()\n",
    "\n",
    "assert trainer.learning_rate < initial_learning_rate, \"Learning rate should've been reduced\"\n",
    "assert trainer.learning_rate > 0.5*initial_learning_rate, \"Learning rate shouldn'tve been reduced that much!\""
   ]
  },
  {
   "cell_type": "markdown",
   "metadata": {},
   "source": [
    "# Накопление импульса (Momentum SGD)\n",
    "\n",
    "Другой большой класс оптимизаций - использование более эффективных методов градиентного спуска. Мы реализуем один из них - накопление импульса (Momentum SGD).\n",
    "\n",
    "Этот метод хранит скорость движения, использует градиент для ее изменения на каждом шаге, и изменяет веса пропорционально значению скорости.\n",
    "(Физическая аналогия: Вместо скорости градиенты теперь будут задавать ускорение, но будет присутствовать сила трения.)\n",
    "\n",
    "```\n",
    "velocity = momentum * velocity - learning_rate * gradient \n",
    "w = w + velocity\n",
    "```\n",
    "\n",
    "`momentum` здесь коэффициент затухания, который тоже является гиперпараметром (к счастью, для него часто есть хорошее значение по умолчанию, типичный диапазон -- 0.8-0.99).\n",
    "\n",
    "Несколько полезных ссылок, где метод разбирается более подробно:  \n",
    "http://cs231n.github.io/neural-networks-3/#sgd  \n",
    "https://distill.pub/2017/momentum/"
   ]
  },
  {
   "cell_type": "code",
   "execution_count": 76,
   "metadata": {},
   "outputs": [
    {
     "name": "stdout",
     "output_type": "stream",
     "text": [
      "Epoch # 1. Loss: 2.2275, Train accuracy: 0.1967, val accuracy: 0.2060\n",
      "Epoch # 2. Loss: 1.9756, Train accuracy: 0.3962, val accuracy: 0.4070\n",
      "Epoch # 3. Loss: 1.5331, Train accuracy: 0.5413, val accuracy: 0.5510\n",
      "Epoch # 4. Loss: 1.2904, Train accuracy: 0.6428, val accuracy: 0.6170\n",
      "Epoch # 5. Loss: 1.1438, Train accuracy: 0.6606, val accuracy: 0.6520\n",
      "Epoch # 6. Loss: 1.0501, Train accuracy: 0.6916, val accuracy: 0.6630\n",
      "Epoch # 7. Loss: 0.9676, Train accuracy: 0.7307, val accuracy: 0.6940\n",
      "Epoch # 8. Loss: 0.9092, Train accuracy: 0.7340, val accuracy: 0.6980\n",
      "Epoch # 9. Loss: 0.8581, Train accuracy: 0.7443, val accuracy: 0.7030\n",
      "Epoch #10. Loss: 0.8052, Train accuracy: 0.7687, val accuracy: 0.6970\n",
      "Epoch #11. Loss: 0.7710, Train accuracy: 0.8027, val accuracy: 0.7230\n",
      "Epoch #12. Loss: 0.7324, Train accuracy: 0.7773, val accuracy: 0.6950\n",
      "Epoch #13. Loss: 0.7032, Train accuracy: 0.8078, val accuracy: 0.7250\n",
      "Epoch #14. Loss: 0.6600, Train accuracy: 0.8153, val accuracy: 0.7350\n",
      "Epoch #15. Loss: 0.6427, Train accuracy: 0.7947, val accuracy: 0.6940\n",
      "Epoch #16. Loss: 0.6132, Train accuracy: 0.8211, val accuracy: 0.7060\n",
      "Epoch #17. Loss: 0.5815, Train accuracy: 0.8272, val accuracy: 0.7210\n",
      "Epoch #18. Loss: 0.5672, Train accuracy: 0.8531, val accuracy: 0.7460\n",
      "Epoch #19. Loss: 0.5350, Train accuracy: 0.8680, val accuracy: 0.7370\n",
      "Epoch #20. Loss: 0.5248, Train accuracy: 0.8418, val accuracy: 0.7120\n"
     ]
    }
   ],
   "source": [
    "# TODO: Implement MomentumSGD.update function in optim.py\n",
    "\n",
    "model = TwoLayerNet(n_input = train_X.shape[1], n_output = 10, hidden_layer_size = 100, reg = 1e-5)\n",
    "dataset = Dataset(train_X, train_y, val_X, val_y)\n",
    "trainer = Trainer(model, dataset, MomentumSGD(), learning_rate=1e-2, learning_rate_decay=0.99)\n",
    "\n",
    "# You should see even better results than before!\n",
    "loss_history, train_history, val_history = trainer.fit()"
   ]
  },
  {
   "cell_type": "markdown",
   "metadata": {},
   "source": [
    "# Ну что, давайте уже тренировать сеть!"
   ]
  },
  {
   "cell_type": "markdown",
   "metadata": {},
   "source": [
    "## Последний тест - переобучимся (overfit) на маленьком наборе данных\n",
    "\n",
    "Хороший способ проверить, все ли реализовано корректно - переобучить сеть на маленьком наборе данных.  \n",
    "Наша модель обладает достаточной мощностью, чтобы приблизить маленький набор данных идеально, поэтому мы ожидаем, что на нем мы быстро дойдем до 100% точности на тренировочном наборе. \n",
    "\n",
    "Если этого не происходит, то где-то была допущена ошибка!"
   ]
  },
  {
   "cell_type": "code",
   "execution_count": 77,
   "metadata": {},
   "outputs": [
    {
     "name": "stdout",
     "output_type": "stream",
     "text": [
      "Epoch # 1. Loss: 2.3346, Train accuracy: 0.3333, val accuracy: 0.0667\n",
      "Epoch # 2. Loss: 2.3198, Train accuracy: 0.2667, val accuracy: 0.0667\n",
      "Epoch # 3. Loss: 2.3096, Train accuracy: 0.2667, val accuracy: 0.0667\n",
      "Epoch # 4. Loss: 2.2980, Train accuracy: 0.2667, val accuracy: 0.0000\n",
      "Epoch # 5. Loss: 2.2900, Train accuracy: 0.2667, val accuracy: 0.0000\n",
      "Epoch # 6. Loss: 2.2802, Train accuracy: 0.2667, val accuracy: 0.0000\n",
      "Epoch # 7. Loss: 2.2674, Train accuracy: 0.2667, val accuracy: 0.0000\n",
      "Epoch # 8. Loss: 2.2480, Train accuracy: 0.2667, val accuracy: 0.0000\n",
      "Epoch # 9. Loss: 2.2125, Train accuracy: 0.4000, val accuracy: 0.0000\n",
      "Epoch #10. Loss: 2.1539, Train accuracy: 0.4000, val accuracy: 0.0000\n",
      "Epoch #11. Loss: 2.0591, Train accuracy: 0.4000, val accuracy: 0.0000\n",
      "Epoch #12. Loss: 1.9844, Train accuracy: 0.4000, val accuracy: 0.0000\n",
      "Epoch #13. Loss: 1.9147, Train accuracy: 0.3333, val accuracy: 0.0000\n",
      "Epoch #14. Loss: 1.9081, Train accuracy: 0.3333, val accuracy: 0.0000\n",
      "Epoch #15. Loss: 1.8484, Train accuracy: 0.3333, val accuracy: 0.0000\n",
      "Epoch #16. Loss: 1.8183, Train accuracy: 0.3333, val accuracy: 0.0000\n",
      "Epoch #17. Loss: 1.8185, Train accuracy: 0.3333, val accuracy: 0.0000\n",
      "Epoch #18. Loss: 1.7977, Train accuracy: 0.4000, val accuracy: 0.0000\n",
      "Epoch #19. Loss: 1.7717, Train accuracy: 0.4000, val accuracy: 0.0000\n",
      "Epoch #20. Loss: 1.7620, Train accuracy: 0.4000, val accuracy: 0.0000\n",
      "Epoch #21. Loss: 1.7424, Train accuracy: 0.4000, val accuracy: 0.0000\n",
      "Epoch #22. Loss: 1.8027, Train accuracy: 0.4000, val accuracy: 0.0667\n",
      "Epoch #23. Loss: 1.8494, Train accuracy: 0.4000, val accuracy: 0.0000\n",
      "Epoch #24. Loss: 1.7305, Train accuracy: 0.4000, val accuracy: 0.0000\n",
      "Epoch #25. Loss: 1.7339, Train accuracy: 0.4667, val accuracy: 0.0667\n",
      "Epoch #26. Loss: 1.7027, Train accuracy: 0.4667, val accuracy: 0.0000\n",
      "Epoch #27. Loss: 1.7593, Train accuracy: 0.4667, val accuracy: 0.0000\n",
      "Epoch #28. Loss: 1.6899, Train accuracy: 0.4667, val accuracy: 0.0667\n",
      "Epoch #29. Loss: 1.6878, Train accuracy: 0.4667, val accuracy: 0.0667\n",
      "Epoch #30. Loss: 1.6929, Train accuracy: 0.4667, val accuracy: 0.0667\n",
      "Epoch #31. Loss: 1.6861, Train accuracy: 0.4667, val accuracy: 0.0000\n",
      "Epoch #32. Loss: 1.6656, Train accuracy: 0.6000, val accuracy: 0.0667\n",
      "Epoch #33. Loss: 1.7195, Train accuracy: 0.5333, val accuracy: 0.0000\n",
      "Epoch #34. Loss: 1.6282, Train accuracy: 0.6000, val accuracy: 0.0667\n",
      "Epoch #35. Loss: 1.6158, Train accuracy: 0.6000, val accuracy: 0.0667\n",
      "Epoch #36. Loss: 1.6309, Train accuracy: 0.6667, val accuracy: 0.0000\n",
      "Epoch #37. Loss: 1.5912, Train accuracy: 0.6667, val accuracy: 0.0667\n",
      "Epoch #38. Loss: 1.6036, Train accuracy: 0.6667, val accuracy: 0.0667\n",
      "Epoch #39. Loss: 1.5795, Train accuracy: 0.6667, val accuracy: 0.0667\n",
      "Epoch #40. Loss: 1.5337, Train accuracy: 0.6667, val accuracy: 0.0667\n",
      "Epoch #41. Loss: 1.5386, Train accuracy: 0.7333, val accuracy: 0.0667\n",
      "Epoch #42. Loss: 1.5013, Train accuracy: 0.6667, val accuracy: 0.0667\n",
      "Epoch #43. Loss: 1.5043, Train accuracy: 0.6667, val accuracy: 0.0667\n",
      "Epoch #44. Loss: 1.4826, Train accuracy: 0.6667, val accuracy: 0.0667\n",
      "Epoch #45. Loss: 1.4903, Train accuracy: 0.6667, val accuracy: 0.1333\n",
      "Epoch #46. Loss: 1.4618, Train accuracy: 0.6667, val accuracy: 0.0667\n",
      "Epoch #47. Loss: 1.4712, Train accuracy: 0.7333, val accuracy: 0.1333\n",
      "Epoch #48. Loss: 1.4540, Train accuracy: 0.7333, val accuracy: 0.0667\n",
      "Epoch #49. Loss: 1.4459, Train accuracy: 0.7333, val accuracy: 0.0000\n",
      "Epoch #50. Loss: 1.4533, Train accuracy: 0.7333, val accuracy: 0.0667\n",
      "Epoch #51. Loss: 1.4159, Train accuracy: 0.7333, val accuracy: 0.0667\n",
      "Epoch #52. Loss: 1.4220, Train accuracy: 0.7333, val accuracy: 0.0667\n",
      "Epoch #53. Loss: 1.4054, Train accuracy: 0.7333, val accuracy: 0.0667\n",
      "Epoch #54. Loss: 1.4057, Train accuracy: 0.7333, val accuracy: 0.0667\n",
      "Epoch #55. Loss: 1.4035, Train accuracy: 0.7333, val accuracy: 0.0667\n",
      "Epoch #56. Loss: 1.4255, Train accuracy: 0.7333, val accuracy: 0.0000\n",
      "Epoch #57. Loss: 1.3990, Train accuracy: 0.7333, val accuracy: 0.0667\n",
      "Epoch #58. Loss: 1.3828, Train accuracy: 0.7333, val accuracy: 0.0667\n",
      "Epoch #59. Loss: 1.3963, Train accuracy: 0.7333, val accuracy: 0.0667\n",
      "Epoch #60. Loss: 1.4074, Train accuracy: 0.7333, val accuracy: 0.0667\n",
      "Epoch #61. Loss: 1.4053, Train accuracy: 0.7333, val accuracy: 0.0667\n",
      "Epoch #62. Loss: 1.3937, Train accuracy: 0.7333, val accuracy: 0.0667\n",
      "Epoch #63. Loss: 1.3894, Train accuracy: 0.7333, val accuracy: 0.0000\n",
      "Epoch #64. Loss: 1.3930, Train accuracy: 0.7333, val accuracy: 0.0667\n",
      "Epoch #65. Loss: 1.4006, Train accuracy: 0.7333, val accuracy: 0.0667\n",
      "Epoch #66. Loss: 1.3944, Train accuracy: 0.8000, val accuracy: 0.0667\n",
      "Epoch #67. Loss: 1.4043, Train accuracy: 0.8000, val accuracy: 0.0667\n",
      "Epoch #68. Loss: 1.3775, Train accuracy: 0.8667, val accuracy: 0.0667\n",
      "Epoch #69. Loss: 1.3751, Train accuracy: 0.8667, val accuracy: 0.0667\n",
      "Epoch #70. Loss: 1.3682, Train accuracy: 0.8667, val accuracy: 0.0667\n",
      "Epoch #71. Loss: 1.3616, Train accuracy: 0.8667, val accuracy: 0.0667\n",
      "Epoch #72. Loss: 1.3679, Train accuracy: 0.8667, val accuracy: 0.0667\n",
      "Epoch #73. Loss: 1.3659, Train accuracy: 0.8667, val accuracy: 0.0667\n",
      "Epoch #74. Loss: 1.3606, Train accuracy: 0.8667, val accuracy: 0.0667\n",
      "Epoch #75. Loss: 1.3727, Train accuracy: 0.8667, val accuracy: 0.0000\n",
      "Epoch #76. Loss: 1.3506, Train accuracy: 0.8667, val accuracy: 0.0667\n",
      "Epoch #77. Loss: 1.3535, Train accuracy: 0.8667, val accuracy: 0.0667\n",
      "Epoch #78. Loss: 1.3912, Train accuracy: 0.8667, val accuracy: 0.0000\n",
      "Epoch #79. Loss: 1.3736, Train accuracy: 0.8667, val accuracy: 0.0667\n",
      "Epoch #80. Loss: 1.3503, Train accuracy: 0.8667, val accuracy: 0.0667\n",
      "Epoch #81. Loss: 1.3620, Train accuracy: 0.8667, val accuracy: 0.0667\n",
      "Epoch #82. Loss: 1.3600, Train accuracy: 0.8667, val accuracy: 0.0667\n",
      "Epoch #83. Loss: 1.3418, Train accuracy: 0.8667, val accuracy: 0.0667\n",
      "Epoch #84. Loss: 1.3459, Train accuracy: 0.8667, val accuracy: 0.0667\n",
      "Epoch #85. Loss: 1.3360, Train accuracy: 0.8667, val accuracy: 0.0667\n",
      "Epoch #86. Loss: 1.3323, Train accuracy: 0.8667, val accuracy: 0.0000\n",
      "Epoch #87. Loss: 1.3325, Train accuracy: 0.8667, val accuracy: 0.0667\n",
      "Epoch #88. Loss: 1.3341, Train accuracy: 0.8667, val accuracy: 0.0000\n",
      "Epoch #89. Loss: 1.3234, Train accuracy: 0.8667, val accuracy: 0.0000\n",
      "Epoch #90. Loss: 1.3152, Train accuracy: 0.8667, val accuracy: 0.0000\n",
      "Epoch #91. Loss: 1.3252, Train accuracy: 0.8667, val accuracy: 0.0000\n",
      "Epoch #92. Loss: 1.3233, Train accuracy: 0.8667, val accuracy: 0.0000\n",
      "Epoch #93. Loss: 1.3164, Train accuracy: 0.8667, val accuracy: 0.0000\n",
      "Epoch #94. Loss: 1.3434, Train accuracy: 0.8667, val accuracy: 0.0000\n",
      "Epoch #95. Loss: 1.3225, Train accuracy: 0.8667, val accuracy: 0.0000\n",
      "Epoch #96. Loss: 1.3169, Train accuracy: 0.8667, val accuracy: 0.0000\n",
      "Epoch #97. Loss: 1.3021, Train accuracy: 0.8667, val accuracy: 0.0000\n",
      "Epoch #98. Loss: 1.3204, Train accuracy: 0.8667, val accuracy: 0.0000\n",
      "Epoch #99. Loss: 1.3324, Train accuracy: 0.8667, val accuracy: 0.0000\n",
      "Epoch #100. Loss: 1.3105, Train accuracy: 0.8667, val accuracy: 0.0000\n",
      "Epoch #101. Loss: 1.2864, Train accuracy: 0.8667, val accuracy: 0.0000\n",
      "Epoch #102. Loss: 1.3011, Train accuracy: 0.8667, val accuracy: 0.0000\n",
      "Epoch #103. Loss: 1.2918, Train accuracy: 0.8667, val accuracy: 0.0000\n",
      "Epoch #104. Loss: 1.2965, Train accuracy: 0.8667, val accuracy: 0.0000\n",
      "Epoch #105. Loss: 1.2846, Train accuracy: 0.8667, val accuracy: 0.0000\n",
      "Epoch #106. Loss: 1.2767, Train accuracy: 0.8667, val accuracy: 0.0000\n",
      "Epoch #107. Loss: 1.2817, Train accuracy: 0.8667, val accuracy: 0.0000\n",
      "Epoch #108. Loss: 1.2780, Train accuracy: 0.8667, val accuracy: 0.0000\n",
      "Epoch #109. Loss: 1.2742, Train accuracy: 0.8667, val accuracy: 0.0000\n",
      "Epoch #110. Loss: 1.3033, Train accuracy: 0.8667, val accuracy: 0.0000\n",
      "Epoch #111. Loss: 1.3009, Train accuracy: 0.8667, val accuracy: 0.0000\n",
      "Epoch #112. Loss: 1.2879, Train accuracy: 0.9333, val accuracy: 0.0000\n",
      "Epoch #113. Loss: 1.2757, Train accuracy: 0.8667, val accuracy: 0.0000\n",
      "Epoch #114. Loss: 1.2866, Train accuracy: 0.9333, val accuracy: 0.0000\n",
      "Epoch #115. Loss: 1.2775, Train accuracy: 0.9333, val accuracy: 0.0000\n",
      "Epoch #116. Loss: 1.2782, Train accuracy: 1.0000, val accuracy: 0.0000\n",
      "Epoch #117. Loss: 1.2874, Train accuracy: 1.0000, val accuracy: 0.0000\n",
      "Epoch #118. Loss: 1.2914, Train accuracy: 1.0000, val accuracy: 0.0000\n",
      "Epoch #119. Loss: 1.3018, Train accuracy: 0.9333, val accuracy: 0.0000\n"
     ]
    },
    {
     "name": "stdout",
     "output_type": "stream",
     "text": [
      "Epoch #120. Loss: 1.3131, Train accuracy: 1.0000, val accuracy: 0.0000\n",
      "Epoch #121. Loss: 1.2698, Train accuracy: 0.9333, val accuracy: 0.0000\n",
      "Epoch #122. Loss: 1.3010, Train accuracy: 0.9333, val accuracy: 0.0000\n",
      "Epoch #123. Loss: 1.2829, Train accuracy: 1.0000, val accuracy: 0.0000\n",
      "Epoch #124. Loss: 1.2629, Train accuracy: 1.0000, val accuracy: 0.0000\n",
      "Epoch #125. Loss: 1.2677, Train accuracy: 1.0000, val accuracy: 0.0000\n",
      "Epoch #126. Loss: 1.2647, Train accuracy: 1.0000, val accuracy: 0.0000\n",
      "Epoch #127. Loss: 1.2742, Train accuracy: 1.0000, val accuracy: 0.0000\n",
      "Epoch #128. Loss: 1.2670, Train accuracy: 1.0000, val accuracy: 0.0000\n",
      "Epoch #129. Loss: 1.2667, Train accuracy: 1.0000, val accuracy: 0.0000\n",
      "Epoch #130. Loss: 1.2819, Train accuracy: 1.0000, val accuracy: 0.0000\n",
      "Epoch #131. Loss: 1.2749, Train accuracy: 1.0000, val accuracy: 0.0000\n",
      "Epoch #132. Loss: 1.2675, Train accuracy: 1.0000, val accuracy: 0.0000\n",
      "Epoch #133. Loss: 1.2592, Train accuracy: 1.0000, val accuracy: 0.0000\n",
      "Epoch #134. Loss: 1.2683, Train accuracy: 1.0000, val accuracy: 0.0000\n",
      "Epoch #135. Loss: 1.2679, Train accuracy: 1.0000, val accuracy: 0.0000\n",
      "Epoch #136. Loss: 1.2561, Train accuracy: 1.0000, val accuracy: 0.0000\n",
      "Epoch #137. Loss: 1.2659, Train accuracy: 1.0000, val accuracy: 0.0000\n",
      "Epoch #138. Loss: 1.2721, Train accuracy: 1.0000, val accuracy: 0.0000\n",
      "Epoch #139. Loss: 1.2862, Train accuracy: 1.0000, val accuracy: 0.0000\n",
      "Epoch #140. Loss: 1.2661, Train accuracy: 1.0000, val accuracy: 0.0000\n",
      "Epoch #141. Loss: 1.2649, Train accuracy: 1.0000, val accuracy: 0.0000\n",
      "Epoch #142. Loss: 1.2701, Train accuracy: 1.0000, val accuracy: 0.0000\n",
      "Epoch #143. Loss: 1.2657, Train accuracy: 1.0000, val accuracy: 0.0000\n",
      "Epoch #144. Loss: 1.2553, Train accuracy: 1.0000, val accuracy: 0.0000\n",
      "Epoch #145. Loss: 1.2748, Train accuracy: 1.0000, val accuracy: 0.0000\n",
      "Epoch #146. Loss: 1.2550, Train accuracy: 1.0000, val accuracy: 0.0000\n",
      "Epoch #147. Loss: 1.2679, Train accuracy: 1.0000, val accuracy: 0.0000\n",
      "Epoch #148. Loss: 1.2837, Train accuracy: 1.0000, val accuracy: 0.0000\n",
      "Epoch #149. Loss: 1.2692, Train accuracy: 1.0000, val accuracy: 0.0000\n",
      "Epoch #150. Loss: 1.2593, Train accuracy: 1.0000, val accuracy: 0.0000\n"
     ]
    }
   ],
   "source": [
    "data_size = 15\n",
    "model = TwoLayerNet(n_input = train_X.shape[1], n_output = 10, hidden_layer_size = 100, reg = 1e-1)\n",
    "dataset = Dataset(train_X[:data_size], train_y[:data_size], val_X[:data_size], val_y[:data_size])\n",
    "trainer = Trainer(model, dataset, SGD(), learning_rate=1e-1, num_epochs=150, batch_size=5)\n",
    "\n",
    "# You should expect this to reach 1.0 training accuracy \n",
    "loss_history, train_history, val_history = trainer.fit()"
   ]
  },
  {
   "cell_type": "markdown",
   "metadata": {},
   "source": [
    "Теперь найдем гипепараметры, для которых этот процесс сходится быстрее.\n",
    "Если все реализовано корректно, то существуют параметры, при которых процесс сходится в **20** эпох или еще быстрее.\n",
    "Найдите их!"
   ]
  },
  {
   "cell_type": "code",
   "execution_count": 90,
   "metadata": {},
   "outputs": [
    {
     "name": "stdout",
     "output_type": "stream",
     "text": [
      "Epoch # 1. Loss: 2.3054, Train accuracy: 0.2000, val accuracy: 0.1333\n",
      "Epoch # 2. Loss: 2.2776, Train accuracy: 0.2000, val accuracy: 0.1333\n",
      "Epoch # 3. Loss: 2.2365, Train accuracy: 0.2667, val accuracy: 0.0000\n",
      "Epoch # 4. Loss: 2.1889, Train accuracy: 0.3333, val accuracy: 0.0667\n",
      "Epoch # 5. Loss: 2.1416, Train accuracy: 0.3333, val accuracy: 0.0667\n",
      "Epoch # 6. Loss: 1.7338, Train accuracy: 0.4667, val accuracy: 0.0000\n",
      "Epoch # 7. Loss: 1.7138, Train accuracy: 0.3333, val accuracy: 0.1333\n",
      "Epoch # 8. Loss: 1.6504, Train accuracy: 0.5333, val accuracy: 0.0667\n",
      "Epoch # 9. Loss: 1.4707, Train accuracy: 0.4667, val accuracy: 0.0667\n",
      "Epoch #10. Loss: 1.4038, Train accuracy: 0.4667, val accuracy: 0.0000\n",
      "Epoch #11. Loss: 1.4795, Train accuracy: 0.6667, val accuracy: 0.0000\n",
      "Epoch #12. Loss: 1.1426, Train accuracy: 0.6000, val accuracy: 0.0000\n",
      "Epoch #13. Loss: 0.9357, Train accuracy: 0.6667, val accuracy: 0.0667\n",
      "Epoch #14. Loss: 0.7934, Train accuracy: 0.7333, val accuracy: 0.1333\n",
      "Epoch #15. Loss: 0.6803, Train accuracy: 0.8667, val accuracy: 0.1333\n",
      "Epoch #16. Loss: 0.5373, Train accuracy: 0.9333, val accuracy: 0.0667\n",
      "Epoch #17. Loss: 0.4411, Train accuracy: 0.9333, val accuracy: 0.0667\n",
      "Epoch #18. Loss: 0.3522, Train accuracy: 0.9333, val accuracy: 0.0000\n",
      "Epoch #19. Loss: 0.2895, Train accuracy: 1.0000, val accuracy: 0.0000\n",
      "Epoch #20. Loss: 0.2023, Train accuracy: 1.0000, val accuracy: 0.0000\n"
     ]
    }
   ],
   "source": [
    "# Now, tweak some hyper parameters and make it train to 1.0 accuracy in 20 epochs or less\n",
    "\n",
    "model = TwoLayerNet(n_input = train_X.shape[1], n_output = 10, hidden_layer_size = 100, reg = 1e-5)\n",
    "dataset = Dataset(train_X[:data_size], train_y[:data_size], val_X[:data_size], val_y[:data_size])\n",
    "# TODO: Change any hyperparamers or optimizators to reach training accuracy in 20 epochs\n",
    "trainer = Trainer(model, dataset, SGD(), learning_rate=3e-1, num_epochs=20, batch_size=5)\n",
    "\n",
    "loss_history, train_history, val_history = trainer.fit()"
   ]
  },
  {
   "cell_type": "markdown",
   "metadata": {},
   "source": [
    "# Итак, основное мероприятие!\n",
    "\n",
    "Натренируйте лучшую нейросеть! Можно добавлять и изменять параметры, менять количество нейронов в слоях сети и как угодно экспериментировать. \n",
    "\n",
    "Добейтесь точности лучше **40%** на validation set."
   ]
  },
  {
   "cell_type": "code",
   "execution_count": 117,
   "metadata": {
    "scrolled": true
   },
   "outputs": [
    {
     "name": "stdout",
     "output_type": "stream",
     "text": [
      "Params: lr=0.5, rs=0.001, opt=<class 'optim_solution.SGD'>\n",
      "Loss: 0.6803, Train accuracy: 0.9463, val accuracy: 0.7700\n",
      "\n"
     ]
    },
    {
     "name": "stderr",
     "output_type": "stream",
     "text": [
      "/home/tbb/Projects/dlcourse.ai/assignments/assignment2/layers_solution.py:44: RuntimeWarning: divide by zero encountered in log\n",
      "  return np.mean(-np.log(probs[np.arange(n_samples), target_index]))\n",
      "/home/tbb/Projects/dlcourse.ai/assignments/assignment2/layers_solution.py:22: RuntimeWarning: overflow encountered in subtract\n",
      "  x -= np.max(x, axis=1, keepdims=True)\n",
      "/home/tbb/Projects/dlcourse.ai/assignments/assignment2/layers_solution.py:22: RuntimeWarning: invalid value encountered in subtract\n",
      "  x -= np.max(x, axis=1, keepdims=True)\n",
      "/home/tbb/Projects/dlcourse.ai/assignments/assignment2/layers_solution.py:115: RuntimeWarning: invalid value encountered in greater\n",
      "  self.mask_ = X > 0\n"
     ]
    },
    {
     "name": "stdout",
     "output_type": "stream",
     "text": [
      "Params: lr=0.5, rs=0.001, opt=<class 'optim_solution.MomentumSGD'>\n",
      "Loss: nan, Train accuracy: 0.0663, val accuracy: 0.0490\n",
      "\n",
      "Params: lr=0.5, rs=0.0001, opt=<class 'optim_solution.SGD'>\n",
      "Loss: 0.1602, Train accuracy: 0.9999, val accuracy: 0.7590\n",
      "\n",
      "Params: lr=0.5, rs=0.0001, opt=<class 'optim_solution.MomentumSGD'>\n",
      "Loss: nan, Train accuracy: 0.0663, val accuracy: 0.0490\n",
      "\n",
      "Params: lr=0.5, rs=1e-05, opt=<class 'optim_solution.SGD'>\n",
      "Loss: 0.0342, Train accuracy: 1.0000, val accuracy: 0.7720\n",
      "\n"
     ]
    },
    {
     "name": "stderr",
     "output_type": "stream",
     "text": [
      "/home/tbb/Envs/dlcourse.ai/lib/python3.7/site-packages/numpy/core/fromnumeric.py:86: RuntimeWarning: overflow encountered in reduce\n",
      "  return ufunc.reduce(obj, axis, dtype, out, **passkwargs)\n"
     ]
    },
    {
     "name": "stdout",
     "output_type": "stream",
     "text": [
      "Params: lr=0.5, rs=1e-05, opt=<class 'optim_solution.MomentumSGD'>\n",
      "Loss: nan, Train accuracy: 0.0663, val accuracy: 0.0490\n",
      "\n",
      "Params: lr=0.1, rs=0.001, opt=<class 'optim_solution.SGD'>\n",
      "Loss: 0.6659, Train accuracy: 0.9416, val accuracy: 0.7910\n",
      "\n",
      "Params: lr=0.1, rs=0.001, opt=<class 'optim_solution.MomentumSGD'>\n",
      "Loss: 0.7349, Train accuracy: 0.9361, val accuracy: 0.7820\n",
      "\n",
      "Params: lr=0.1, rs=0.0001, opt=<class 'optim_solution.SGD'>\n",
      "Loss: 0.1788, Train accuracy: 0.9909, val accuracy: 0.7730\n",
      "\n",
      "Params: lr=0.1, rs=0.0001, opt=<class 'optim_solution.MomentumSGD'>\n",
      "Loss: 0.1636, Train accuracy: 0.9999, val accuracy: 0.7530\n",
      "\n",
      "Params: lr=0.1, rs=1e-05, opt=<class 'optim_solution.SGD'>\n",
      "Loss: 0.0912, Train accuracy: 0.9937, val accuracy: 0.7690\n",
      "\n",
      "Params: lr=0.1, rs=1e-05, opt=<class 'optim_solution.MomentumSGD'>\n",
      "Loss: 0.0568, Train accuracy: 1.0000, val accuracy: 0.7660\n",
      "\n",
      "Params: lr=0.05, rs=0.001, opt=<class 'optim_solution.SGD'>\n",
      "Loss: 0.7178, Train accuracy: 0.9002, val accuracy: 0.7660\n",
      "\n",
      "Params: lr=0.05, rs=0.001, opt=<class 'optim_solution.MomentumSGD'>\n",
      "Loss: 0.6729, Train accuracy: 0.9561, val accuracy: 0.7950\n",
      "\n",
      "Params: lr=0.05, rs=0.0001, opt=<class 'optim_solution.SGD'>\n",
      "Loss: 0.3250, Train accuracy: 0.9391, val accuracy: 0.7660\n",
      "\n",
      "Params: lr=0.05, rs=0.0001, opt=<class 'optim_solution.MomentumSGD'>\n",
      "Loss: 0.1507, Train accuracy: 1.0000, val accuracy: 0.7790\n",
      "\n",
      "Params: lr=0.05, rs=1e-05, opt=<class 'optim_solution.SGD'>\n",
      "Loss: 0.2755, Train accuracy: 0.9408, val accuracy: 0.7640\n",
      "\n",
      "Params: lr=0.05, rs=1e-05, opt=<class 'optim_solution.MomentumSGD'>\n",
      "Loss: 0.0311, Train accuracy: 1.0000, val accuracy: 0.7630\n",
      "\n",
      "Params: lr=0.01, rs=0.001, opt=<class 'optim_solution.SGD'>\n",
      "Loss: 1.2974, Train accuracy: 0.6260, val accuracy: 0.6180\n",
      "\n",
      "Params: lr=0.01, rs=0.001, opt=<class 'optim_solution.MomentumSGD'>\n",
      "Loss: 0.6692, Train accuracy: 0.9466, val accuracy: 0.7980\n",
      "\n",
      "Params: lr=0.01, rs=0.0001, opt=<class 'optim_solution.SGD'>\n",
      "Loss: 1.2084, Train accuracy: 0.6332, val accuracy: 0.6140\n",
      "\n",
      "Params: lr=0.01, rs=0.0001, opt=<class 'optim_solution.MomentumSGD'>\n",
      "Loss: 0.1819, Train accuracy: 0.9923, val accuracy: 0.7950\n",
      "\n",
      "Params: lr=0.01, rs=1e-05, opt=<class 'optim_solution.SGD'>\n",
      "Loss: 1.2131, Train accuracy: 0.6281, val accuracy: 0.6080\n",
      "\n",
      "Params: lr=0.01, rs=1e-05, opt=<class 'optim_solution.MomentumSGD'>\n",
      "Loss: 0.0851, Train accuracy: 0.9946, val accuracy: 0.7760\n",
      "\n",
      "best validation accuracy achieved: 0.798000\n"
     ]
    }
   ],
   "source": [
    "# Let's train the best one-hidden-layer network we can\n",
    "import itertools\n",
    "\n",
    "learning_rates = [5e-1, 1e-1, 5e-2, 1e-2]\n",
    "reg_strength = [1e-3, 1e-4, 1e-5]\n",
    "optimizers = [SGD(), MomentumSGD()]\n",
    "learning_rate_decay = 0.99\n",
    "hidden_layer_size = 128\n",
    "num_epochs = 200\n",
    "batch_size = 64\n",
    "\n",
    "best_classifier = None\n",
    "best_val_accuracy = 0\n",
    "\n",
    "loss_history = []\n",
    "train_history = []\n",
    "val_history = []\n",
    "\n",
    "for lr, rs, opt in itertools.product(learning_rates,\n",
    "                                     reg_strength,\n",
    "                                     optimizers):\n",
    "    model = TwoLayerNet(n_input=train_X.shape[1],\n",
    "                        n_output=10,\n",
    "                        hidden_layer_size=hidden_layer_size,\n",
    "                        reg=rs)\n",
    "    dataset = Dataset(train_X, train_y,\n",
    "                      val_X, val_y)\n",
    "    trainer = Trainer(model=model,\n",
    "                      dataset=dataset,\n",
    "                      optim=opt,\n",
    "                      num_epochs=num_epochs,\n",
    "                      batch_size=batch_size,\n",
    "                      learning_rate=lr,\n",
    "                      learning_rate_decay=learning_rate_decay,\n",
    "                      verbose=False)\n",
    "    \n",
    "    loss, train_acc, val_acc = trainer.fit()\n",
    "    \n",
    "    print(f'Params: lr={lr}, rs={rs}, opt={opt.__class__}')\n",
    "    print(f\"Loss: {loss[-1]:.4f}, \"\n",
    "          f\"Train accuracy: {train_acc[-1]:.4f}, \"\n",
    "          f\"val accuracy: {val_acc[-1]:.4f}\")\n",
    "    print()\n",
    "    \n",
    "    loss_history.append(loss[-1])\n",
    "    train_history.append(train_acc[-1])\n",
    "    val_history.append(val_acc[-1])\n",
    "    \n",
    "    if val_acc[-1] > best_val_accuracy:\n",
    "        best_val_accuracy = val_acc[-1]\n",
    "        best_classifier = model\n",
    "\n",
    "# TODO find the best hyperparameters to train the network\n",
    "# Don't hesitate to add new values to the arrays above, perform experiments, use any tricks you want\n",
    "# You should expect to get to at least 40% of valudation accuracy\n",
    "# Save loss/train/history of the best classifier to the variables above\n",
    "\n",
    "print('best validation accuracy achieved: %f' % best_val_accuracy)"
   ]
  },
  {
   "cell_type": "code",
   "execution_count": 119,
   "metadata": {},
   "outputs": [
    {
     "data": {
      "image/png": "[encoded data removed]",
      "text/plain": [
       "<Figure size 1080x504 with 2 Axes>"
      ]
     },
     "metadata": {
      "needs_background": "light"
     },
     "output_type": "display_data"
    }
   ],
   "source": [
    "plt.figure(figsize=(15, 7))\n",
    "plt.subplot(211)\n",
    "plt.title(\"Loss\")\n",
    "plt.plot(loss_history)\n",
    "plt.subplot(212)\n",
    "plt.title(\"Train/validation accuracy\")\n",
    "plt.plot(train_history)\n",
    "plt.plot(val_history);"
   ]
  },
  {
   "cell_type": "markdown",
   "metadata": {},
   "source": [
    "# Как обычно, посмотрим, как наша лучшая модель работает на тестовых данных"
   ]
  },
  {
   "cell_type": "code",
   "execution_count": 120,
   "metadata": {},
   "outputs": [
    {
     "name": "stdout",
     "output_type": "stream",
     "text": [
      "Neural net test set accuracy: 0.759000\n"
     ]
    }
   ],
   "source": [
    "test_pred = best_classifier.predict(test_X)\n",
    "test_accuracy = multiclass_accuracy(test_pred, test_y)\n",
    "print('Neural net test set accuracy: %f' % (test_accuracy, ))"
   ]
  }
 ],
 "metadata": {
  "kernelspec": {
   "display_name": "Python 3",
   "language": "python",
   "name": "python3"
  },
  "language_info": {
   "codemirror_mode": {
    "name": "ipython",
    "version": 3
   },
   "file_extension": ".py",
   "mimetype": "text/x-python",
   "name": "python",
   "nbconvert_exporter": "python",
   "pygments_lexer": "ipython3",
   "version": "3.7.2"
  }
 },
 "nbformat": 4,
 "nbformat_minor": 2
}
